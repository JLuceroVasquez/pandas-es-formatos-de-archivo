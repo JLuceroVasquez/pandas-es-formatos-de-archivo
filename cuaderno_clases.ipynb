{
  "nbformat": 4,
  "nbformat_minor": 0,
  "metadata": {
    "colab": {
      "provenance": [],
      "authorship_tag": "ABX9TyN1jVM/IcV4Kn7e3+U0iQNp",
      "include_colab_link": true
    },
    "kernelspec": {
      "name": "python3",
      "display_name": "Python 3"
    },
    "language_info": {
      "name": "python"
    }
  },
  "cells": [
    {
      "cell_type": "markdown",
      "metadata": {
        "id": "view-in-github",
        "colab_type": "text"
      },
      "source": [
        "<a href=\"https://colab.research.google.com/github/JLuceroVasquez/pandas-es-formatos-de-archivo/blob/main/cuaderno_clases.ipynb\" target=\"_parent\"><img src=\"https://colab.research.google.com/assets/colab-badge.svg\" alt=\"Open In Colab\"/></a>"
      ]
    },
    {
      "cell_type": "markdown",
      "source": [
        "#Pandas E/S: trabajando con diferentes formatos de archivo\n",
        "Durante el curso se enseño a usar la biblioteca Pandas para importar y exportar datos en diferentes formatos de archivo. Específicamente, se enseñó como trabajar con archivos CSV, Excel, JSON, HTML y XML, así como a leer y escribir en bases de datos SQL.\n",
        "\n",
        "Con fines didácticos, para cada tipo de archivo, se abordó un caso de uso distinto a fin de trabajar con diferentes tipos de información."
      ],
      "metadata": {
        "id": "25UnokFsHlY6"
      }
    },
    {
      "cell_type": "code",
      "execution_count": 1,
      "metadata": {
        "id": "Mc59shxSE9V2"
      },
      "outputs": [],
      "source": [
        "import pandas as pd"
      ]
    },
    {
      "cell_type": "code",
      "source": [],
      "metadata": {
        "id": "5jXhVQF8IfEi"
      },
      "execution_count": null,
      "outputs": []
    }
  ]
}